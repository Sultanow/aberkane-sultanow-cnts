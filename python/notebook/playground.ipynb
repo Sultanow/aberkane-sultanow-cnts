{
 "cells": [
  {
   "cell_type": "code",
   "execution_count": 5,
   "metadata": {
    "id": "a42M43IPu1cD"
   },
   "outputs": [],
   "source": [
    "import numpy as np\n",
    "import queue\n",
    "import pandas as pd\n",
    "import matplotlib.pyplot as plt\n",
    "from matplotlib.pyplot import figure\n",
    "import re\n",
    "from sympy.ntheory.factor_ import factorint"
   ]
  },
  {
   "cell_type": "code",
   "execution_count": 7,
   "metadata": {},
   "outputs": [
    {
     "name": "stdout",
     "output_type": "stream",
     "text": [
      "170\n"
     ]
    },
    {
     "data": {
      "image/png": "[encoded data removed]",
      "text/plain": [
       "<Figure size 432x288 with 1 Axes>"
      ]
     },
     "metadata": {
      "needs_background": "light"
     },
     "output_type": "display_data"
    }
   ],
   "source": [
    "def is_Ag(n:int) -> bool:\n",
    "    return n % 24 == 17\n",
    "\n",
    "def operation_v(n:int) -> int:\n",
    "    return 4*n+1\n",
    "\n",
    "def operation_v_n_times(start:int, n:int) -> int:\n",
    "    res = start\n",
    "    for i in range(1, n):\n",
    "        res = operation_v(res)\n",
    "    return res\n",
    "\n",
    "def generate_v_series(start:int, n:int) -> list[int]:\n",
    "    res = [0]*n\n",
    "    for i in range(0, n):\n",
    "        res[i] = operation_v_n_times(start, i+1)\n",
    "    return res\n",
    "\n",
    "def remove_0mod3(v_series:list[int]) -> list[int]:\n",
    "    res = []\n",
    "    for i in v_series:\n",
    "        if i%3 > 0:\n",
    "            res.append(i)\n",
    "    return res\n",
    "\n",
    "def syr_min_1(v_series:list[int]) -> list[int]:\n",
    "    res = []\n",
    "    for i in v_series:\n",
    "        if i> 1:\n",
    "            if i%3 == 1:\n",
    "                #Type C case\n",
    "                res.append((4*i-1)//3)\n",
    "            elif i%3 == 2:\n",
    "                #Type A case\n",
    "                res.append((2*i-1)//3)\n",
    "    return res\n",
    "\n",
    "array_growth = []\n",
    "def func2(s:int, max_bin_len:int)->int:\n",
    "    global array_growth\n",
    "    array_growth = []\n",
    "    \n",
    "    x=0\n",
    "    arr=[]\n",
    "    arr.append(s)\n",
    "    q = queue.Queue()\n",
    "    q.put(s)\n",
    "    n = s\n",
    "    while len(arr) > 0:\n",
    "        n = arr[0]\n",
    "        del arr[0]\n",
    "        array_growth.append(len(arr))\n",
    "\n",
    "        if n%3 == 2:\n",
    "            #Type A case\n",
    "            temp1 = (2*n-1)//3\n",
    "            arr.append(temp1)\n",
    "            if is_Ag(n):\n",
    "                x += 1\n",
    "            if len(np.binary_repr(n)) < len(np.binary_repr(s))+max_bin_len-1:\n",
    "                temp2 = operation_v(n)\n",
    "                arr.append(temp2)\n",
    "        elif n%3 == 0:\n",
    "            #Type B case\n",
    "            if len(np.binary_repr(n)) < len(np.binary_repr(s))+max_bin_len-1:\n",
    "                temp1 = operation_v(n)\n",
    "                arr.append(temp1)\n",
    "        elif n%3 == 1:\n",
    "            #Type C case\n",
    "            if len(np.binary_repr(n)) < len(np.binary_repr(s))+max_bin_len and n>1:\n",
    "                temp1 = (4*n-1)//3\n",
    "                arr.append(temp1)\n",
    "            if len(np.binary_repr(n)) < len(np.binary_repr(s))+max_bin_len-1:\n",
    "                temp2 = operation_v(n)\n",
    "                arr.append(temp2)\n",
    "        \n",
    "    return x\n",
    "\n",
    "start = 3\n",
    "max_bin_len = 10\n",
    "print(func2(start, max_bin_len))\n",
    "\n",
    "l = len(array_growth)\n",
    "y_val = array_growth\n",
    "x_val = range(0, l)\n",
    "\n",
    "d = {\"x\":x_val, \"array_growth\":y_val}\n",
    "df = pd.DataFrame(d)\n",
    "df.to_csv('array_growth.csv', index=False)\n",
    "\n",
    "plt.plot(x_val, y_val)\n",
    "plt.show()"
   ]
  },
  {
   "cell_type": "code",
   "execution_count": 8,
   "metadata": {},
   "outputs": [
    {
     "data": {
      "image/png": "[encoded data removed]",
      "text/plain": [
       "<Figure size 432x288 with 1 Axes>"
      ]
     },
     "metadata": {
      "needs_background": "light"
     },
     "output_type": "display_data"
    }
   ],
   "source": [
    "start = 3\n",
    "max_bin_len = 20\n",
    "x_val=[]\n",
    "y_val=[]\n",
    "y_val2=[]\n",
    "for mbl in range(5, max_bin_len+1):\n",
    "    x_val.append(mbl)\n",
    "    y_val.append(func2(start, mbl))\n",
    "    y_val2.append(2**(mbl-1)/24)\n",
    "\n",
    "d = {\"x\":x_val, \"max_bin_length\":y_val}\n",
    "df = pd.DataFrame(d)\n",
    "df.to_csv('max_bin_length.csv', index=False)\n",
    "\n",
    "plt.plot(x_val, y_val)\n",
    "plt.plot(x_val, y_val2)  \n",
    "plt.show()"
   ]
  },
  {
   "cell_type": "code",
   "execution_count": 14,
   "metadata": {},
   "outputs": [
    {
     "name": "stdout",
     "output_type": "stream",
     "text": [
      "85\n"
     ]
    }
   ],
   "source": [
    "def func3(s:int, max_bin_len:int)->int:    \n",
    "    blen_s = s.bit_length()\n",
    "    x = 0\n",
    "    q = queue.Queue()\n",
    "    q.put(s)\n",
    "    while not q.empty():\n",
    "        n = q.get()\n",
    "        blen_n = n.bit_length()\n",
    "        if n%3 == 2:\n",
    "            #Type A case\n",
    "            q.put((2*n-1)//3)\n",
    "            if is_Ag(n):\n",
    "                x += 1\n",
    "            if blen_n < blen_s + max_bin_len-1:\n",
    "                q.put(operation_v(n))\n",
    "        elif n%3 == 0:\n",
    "            #Type B case\n",
    "            if blen_n < blen_s + max_bin_len-1:\n",
    "                q.put(operation_v(n))\n",
    "        elif n%3 == 1:\n",
    "            #Type C case\n",
    "            if blen_n < blen_s + max_bin_len and n>1:\n",
    "                q.put((4*n-1)//3)\n",
    "            if blen_n < blen_s + max_bin_len-1:\n",
    "                q.put(operation_v(n))\n",
    "    return x\n",
    "\n",
    "start = 3\n",
    "max_bin_len = 10\n",
    "print(func3(start, max_bin_len))"
   ]
  },
  {
   "cell_type": "code",
   "execution_count": 4,
   "metadata": {},
   "outputs": [],
   "source": [
    "start = 3\n",
    "max_bin_len = 10\n",
    "x_val=[]\n",
    "y_val=[]\n",
    "for mbl in range(5, max_bin_len+1):\n",
    "    x_val.append(mbl)\n",
    "    y_val.append(func3(start, mbl))\n",
    "\n",
    "d = {\"x\":x_val, \"max_bin_length\":y_val}\n",
    "df = pd.DataFrame(d)\n",
    "df.to_csv('s_{0}_max_bin_length_{1}.csv'.format(start, max_bin_len), index=False)"
   ]
  },
  {
   "cell_type": "code",
   "execution_count": 22,
   "metadata": {},
   "outputs": [
    {
     "data": {
      "image/png": "[encoded data removed]",
      "text/plain": [
       "<Figure size 432x288 with 1 Axes>"
      ]
     },
     "metadata": {
      "needs_background": "light"
     },
     "output_type": "display_data"
    }
   ],
   "source": [
    "start = 3\n",
    "df = pd.read_csv('s_3_max_bin_length.csv')\n",
    "#rowc_ount = len(df.index)\n",
    "#x_start = df.at[0, 'x']\n",
    "#x_stop = df.at[rowc_ount-1, 'x']\n",
    "\n",
    "def prod_sum(x:int,n:int)->int:\n",
    "    sum=0\n",
    "    for l in range(1,(n-2)//x+1):\n",
    "        prod=1\n",
    "        for k in range(1,l+1):\n",
    "            prod*=(n-x*k)//12\n",
    "        sum+=prod\n",
    "    return sum\n",
    "\n",
    "x_val=df['x'].tolist()\n",
    "y_val=df['max_bin_length'].tolist()\n",
    "y_val2=[2**(x)/24 for x in x_val]\n",
    "\n",
    "text_file = open(\"../prod_sum.txt\", \"r\")\n",
    "content = text_file.read()[1:-1]\n",
    "text_file.close()\n",
    "content_list = content.split(\",\")\n",
    "y_val3 = [0]*len(x_val)\n",
    "for idx, str in enumerate(content_list):\n",
    "    m = re.search('mpz\\(([0-9]+)\\)', str)\n",
    "    y_val3[idx]=int(m.group(1))\n",
    "\n",
    "#y_val3=[prod_sum(start,n) for n in y_val]\n",
    "\n",
    "#prime_factors=[factorint(x) for x in y_val]\n",
    "#df = df.join(pd.DataFrame({'prime_factors': prime_factors}))\n",
    "#print(df)\n",
    "\n",
    "plt.plot(x_val, y_val, color='red')\n",
    "plt.plot(x_val, y_val2, color='orange')\n",
    "#plt.plot(x_val, y_val3, color='blue')\n",
    "plt.show()\n",
    "\n"
   ]
  },
  {
   "cell_type": "code",
   "execution_count": 3,
   "metadata": {},
   "outputs": [
    {
     "name": "stdout",
     "output_type": "stream",
     "text": [
      "12\n"
     ]
    },
    {
     "data": {
      "image/png": "[encoded data removed]",
      "text/plain": [
       "<Figure size 432x288 with 1 Axes>"
      ]
     },
     "metadata": {
      "needs_background": "light"
     },
     "output_type": "display_data"
    }
   ],
   "source": [
    "recursion_jumps = []\n",
    "def func(start:int, max_bin_len:int, x:int)->int:\n",
    "    global recursion_jumps\n",
    "    recursion_jumps.append(1)\n",
    "    \n",
    "    b=len(np.binary_repr(start))\n",
    "    if is_Ag(start):\n",
    "        x += 1\n",
    "    v_series = generate_v_series(start, (max_bin_len-b)//2)\n",
    "    thinned_out_series = remove_0mod3(v_series)\n",
    "    syr_min1_series = syr_min_1(thinned_out_series)\n",
    "    for i in syr_min1_series:\n",
    "        if is_Ag(i):\n",
    "            x += 1\n",
    "        x = func(i, max_bin_len, x)\n",
    "    recursion_jumps.append(-1)\n",
    "    return x\n",
    "\n",
    "start = 3\n",
    "max_bin_len = 10\n",
    "print(func(start, max_bin_len, 0))\n",
    "\n",
    "l = len(recursion_jumps)\n",
    "x_val = range(0, l)\n",
    "y_val = [1]*l\n",
    "for i in range(1, l):\n",
    "    y_val[i] = y_val[i-1]+recursion_jumps[i]\n",
    "\n",
    "#print(y_val)\n",
    "plt.plot(x_val, y_val)\n",
    "plt.show()"
   ]
  },
  {
   "cell_type": "code",
   "execution_count": 12,
   "metadata": {},
   "outputs": [
    {
     "name": "stdout",
     "output_type": "stream",
     "text": [
      "[5, 6, 7, 8, 9, 10, 11, 12, 13, 14, 15, 16, 17, 18, 19, 20]\n",
      "[0.0, 1.5, 0.75, 0.75, 0.75, 0.65625, 0.515625, 0.5390625, 0.515625, 0.84375, 0.814453125, 0.8056640625, 0.79248046875, 0.7877197265625, 0.79522705078125, 0.792388916015625]\n"
     ]
    },
    {
     "data": {
      "image/png": "[encoded data removed]",
      "text/plain": [
       "<Figure size 432x288 with 1 Axes>"
      ]
     },
     "metadata": {
      "needs_background": "light"
     },
     "output_type": "display_data"
    }
   ],
   "source": [
    "start = 1\n",
    "max_bin_len = 20\n",
    "x_val=[]\n",
    "y_val=[]\n",
    "for mbl in range(5, max_bin_len+1):\n",
    "    x_val.append(mbl)\n",
    "    y = func(start, mbl, 0)\n",
    "    y = y/(2**(mbl-1)/24)\n",
    "    y_val.append(y)\n",
    "\n",
    "print(x_val)\n",
    "print(y_val)\n",
    "\n",
    "plt.plot(x_val, y_val)  \n",
    "plt.show()"
   ]
  },
  {
   "cell_type": "code",
   "execution_count": 39,
   "metadata": {},
   "outputs": [
    {
     "name": "stdout",
     "output_type": "stream",
     "text": [
      "syr_min1_series: {0} [1, 3, 113, 227, 7281, 14563, 466033, 932067, 29826161, 59652323, 1908874353, 3817748707, 122167958641, 244335917283, 7818749353073, 15637498706147, 500399958596721, 1000799917193443, 32025597350190193, 64051194700380387, 2049638230412172401, 4099276460824344803, 131176846746379033713, 262353693492758067427, 8395318191768258157681, 16790636383536516315363, 537300364273168522091633, 1074600728546337044183267, 34387223313482785413864561, 68774446626965570827729123, 2200782292062898266487331953, 4401564584125796532974663907, 140850066692025489055189245041, 281700133384050978110378490083, 9014404268289631299532111682673, 18028808536579262599064223365347, 576921873170536403170055147691121, 1153843746341072806340110295382243, 36922999882914329802883529452231793, 73845999765828659605767058904463587, 2363071992506517107384545884942834801, 4726143985013034214769091769885669603, 151236607520417094872610936636341427313, 302473215040834189745221873272682854627, 9679142881306694071847099944725851348081, 19358285762613388143694199889451702696163, 619465144403628420598214396462454486277233, 1238930288807256841196428792924908972554467, 39645769241832218918285721373597087121742961, 79291538483664437836571442747194174243485923, 2537329231477262010770286167910213575791549553, 5074658462954524021540572335820427151583099107, 162389070814544768689298314746253668850659171441, 324778141629089537378596629492507337701318342883, 10392900532130865196115092143760234806442186972273, 20785801064261730392230184287520469612884373944547, 665145634056375372551365897200655027612299966225521, 1330291268112750745102731794401310055224599932451043, 42569320579608023843287417420841921767187197838433393, 85138641159216047686574834841683843534374395676866787, 2724436517094913525970394714933882993099980661659737201, 5448873034189827051940789429867765986199961323319474403, 174363937094074465662105261755768511558398762346223180913, 348727874188148931324210523511537023116797524692446361827, 11159291974020765802374736752369184739737520790158283578481, 22318583948041531604749473504738369479475041580316567156963]\n"
     ]
    },
    {
     "data": {
      "image/png": "[encoded data removed]",
      "text/plain": [
       "<Figure size 1152x72 with 1 Axes>"
      ]
     },
     "metadata": {
      "needs_background": "light"
     },
     "output_type": "display_data"
    }
   ],
   "source": [
    "start = 1\n",
    "max_bin_len = 200\n",
    "b=len(np.binary_repr(start))\n",
    "v_series = generate_v_series(start, (max_bin_len-b)//2)\n",
    "thinned_out_series = remove_0mod3(v_series)\n",
    "syr_min1_series = syr_min_1(thinned_out_series)\n",
    "\n",
    "res = syr_min1_series\n",
    "l = len(res)\n",
    "x = range(1, l+1)\n",
    "y = [1]*l\n",
    "colors = [\"black\"]*l\n",
    "for idx, i in enumerate(res):\n",
    "    if i%3 == 2:\n",
    "        colors[idx]=\"orange\"\n",
    "    if is_Ag(i):\n",
    "        colors[idx]=\"red\"\n",
    "\n",
    "#print(\"v_series: {0}\", v_series)\n",
    "#print(\"thinned_out_series: {0}\", thinned_out_series)\n",
    "print(\"syr_min1_series: {0}\", syr_min1_series)\n",
    "\n",
    "figure(figsize=(16, 1))\n",
    "plt.scatter(x, y, s=16, c=colors, alpha=1)\n",
    "plt.axis('off')\n",
    "plt.show()"
   ]
  },
  {
   "cell_type": "code",
   "execution_count": 10,
   "metadata": {},
   "outputs": [],
   "source": [
    "def numberToBase(n, b):\n",
    "    if n == 0:\n",
    "        return [0]\n",
    "    digits = []\n",
    "    while n:\n",
    "        digits.append(int(n % b))\n",
    "        n //= b\n",
    "    return digits[::-1]\n",
    "\n",
    "def count_17mod24(series:list[int]) -> int:\n",
    "    res = 0\n",
    "    for i in series:\n",
    "        if i%24 == 17:\n",
    "            res+=1\n",
    "    return res\n",
    "\n"
   ]
  },
  {
   "cell_type": "code",
   "execution_count": null,
   "metadata": {},
   "outputs": [],
   "source": []
  }
 ],
 "metadata": {
  "colab": {
   "collapsed_sections": [],
   "name": "graphwizz-tree.ipynb",
   "provenance": [],
   "toc_visible": true
  },
  "kernelspec": {
   "display_name": "Python 3.8.3 64-bit ('Development': virtualenv)",
   "metadata": {
    "interpreter": {
     "hash": "524e93b8e0226315aee682eacc6843c81ddb16bd5c2ad8dc8495f33ccc2f5477"
    }
   },
   "name": "python3"
  },
  "language_info": {
   "codemirror_mode": {
    "name": "ipython",
    "version": 3
   },
   "file_extension": ".py",
   "mimetype": "text/x-python",
   "name": "python",
   "nbconvert_exporter": "python",
   "pygments_lexer": "ipython3",
   "version": "3.9.7"
  }
 },
 "nbformat": 4,
 "nbformat_minor": 0
}
